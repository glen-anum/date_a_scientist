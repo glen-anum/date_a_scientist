{
 "cells": [
  {
   "cell_type": "markdown",
   "metadata": {},
   "source": [
    "Date-A-Scientist\n",
    "\n",
    "In recent years, there has been a massive rise in the usage of dating apps to find love. Many of these apps use sophisticated data science techniques to recommend possible matches to users and to optimize the user experience. These apps give us access to a wealth of information that we’ve never had before about how different people experience romance.\n",
    "\n",
    "In this capstone, you will analyze some data from OKCupid, an app that focuses on using multiple choice and short answers to match users."
   ]
  },
  {
   "cell_type": "code",
   "execution_count": 164,
   "metadata": {},
   "outputs": [],
   "source": [
    "import pandas as pd\n",
    "import numpy as np\n",
    "from matplotlib import pyplot as plt\n",
    "from sklearn import preprocessing\n",
    "from sklearn.neighbors import KNeighborsClassifier\n",
    "from sklearn.naive_bayes import MultinomialNB\n",
    "from sklearn.model_selection import train_test_split\n",
    "from sklearn.metrics import accuracy_score, recall_score, precision_score\n",
    "from sklearn.linear_model import LinearRegression\n",
    "from sklearn.neighbors import KNeighborsRegressor\n",
    "\n",
    "df = pd.read_csv('profiles.csv')\n"
   ]
  },
  {
   "cell_type": "code",
   "execution_count": 165,
   "metadata": {},
   "outputs": [
    {
     "data": {
      "text/plain": [
       "Index(['age', 'body_type', 'diet', 'drinks', 'drugs', 'education', 'essay0',\n",
       "       'essay1', 'essay2', 'essay3', 'essay4', 'essay5', 'essay6', 'essay7',\n",
       "       'essay8', 'essay9', 'ethnicity', 'height', 'income', 'job',\n",
       "       'last_online', 'location', 'offspring', 'orientation', 'pets',\n",
       "       'religion', 'sex', 'sign', 'smokes', 'speaks', 'status'],\n",
       "      dtype='object')"
      ]
     },
     "execution_count": 165,
     "metadata": {},
     "output_type": "execute_result"
    }
   ],
   "source": [
    "df.columns"
   ]
  },
  {
   "cell_type": "code",
   "execution_count": 166,
   "metadata": {},
   "outputs": [
    {
     "data": {
      "text/plain": [
       "26     3724\n",
       "27     3685\n",
       "28     3583\n",
       "25     3531\n",
       "29     3295\n",
       "24     3242\n",
       "30     3149\n",
       "31     2735\n",
       "23     2592\n",
       "32     2587\n",
       "33     2206\n",
       "22     1934\n",
       "34     1902\n",
       "35     1755\n",
       "36     1583\n",
       "37     1427\n",
       "38     1330\n",
       "21     1282\n",
       "39     1172\n",
       "42     1072\n",
       "40     1030\n",
       "41      980\n",
       "20      953\n",
       "43      858\n",
       "44      708\n",
       "45      643\n",
       "19      611\n",
       "46      578\n",
       "47      529\n",
       "48      481\n",
       "49      459\n",
       "50      437\n",
       "51      350\n",
       "52      344\n",
       "18      309\n",
       "56      271\n",
       "54      267\n",
       "55      265\n",
       "57      256\n",
       "53      252\n",
       "59      221\n",
       "58      197\n",
       "60      195\n",
       "61      176\n",
       "62      167\n",
       "63      138\n",
       "64      113\n",
       "65      109\n",
       "66      105\n",
       "67       66\n",
       "68       59\n",
       "69       31\n",
       "110       1\n",
       "109       1\n",
       "Name: age, dtype: int64"
      ]
     },
     "execution_count": 166,
     "metadata": {},
     "output_type": "execute_result"
    }
   ],
   "source": [
    "df.age.value_counts()"
   ]
  },
  {
   "cell_type": "code",
   "execution_count": 167,
   "metadata": {},
   "outputs": [
    {
     "name": "stdout",
     "output_type": "stream",
     "text": [
      "straight: 32.51437817308065\n",
      "gay: 32.22860218912614\n",
      "bisexual: 29.31839537405132\n"
     ]
    },
    {
     "data": {
      "text/plain": [
       "straight    51606\n",
       "gay          5573\n",
       "bisexual     2767\n",
       "Name: orientation, dtype: int64"
      ]
     },
     "execution_count": 167,
     "metadata": {},
     "output_type": "execute_result"
    }
   ],
   "source": [
    "mean_age_straight = df.loc[df['orientation'] == 'straight']\n",
    "straight = mean_age_straight.age.mean()\n",
    "mean_age_straight = df.loc[df['orientation'] == 'gay']\n",
    "gay = mean_age_straight.age.mean()\n",
    "mean_age_straight = df.loc[df['orientation'] == 'bisexual']\n",
    "bisexual = mean_age_straight.age.mean()\n",
    "\n",
    "print('straight: ' + str(straight))\n",
    "print('gay: ' + str(gay))\n",
    "print('bisexual: ' + str(bisexual))\n",
    "df.orientation.value_counts()"
   ]
  },
  {
   "cell_type": "code",
   "execution_count": 168,
   "metadata": {},
   "outputs": [
    {
     "data": {
      "text/plain": [
       "<matplotlib.axes._subplots.AxesSubplot at 0x2847c7c4390>"
      ]
     },
     "execution_count": 168,
     "metadata": {},
     "output_type": "execute_result"
    },
    {
     "data": {
      "image/png": "[encoded data removed]",
      "text/plain": [
       "<Figure size 432x288 with 1 Axes>"
      ]
     },
     "metadata": {
      "needs_background": "light"
     },
     "output_type": "display_data"
    }
   ],
   "source": [
    "df['body_type'].value_counts().plot(kind='barh')"
   ]
  },
  {
   "cell_type": "code",
   "execution_count": 169,
   "metadata": {},
   "outputs": [
    {
     "data": {
      "text/plain": [
       "<matplotlib.axes._subplots.AxesSubplot at 0x2847c77ecc0>"
      ]
     },
     "execution_count": 169,
     "metadata": {},
     "output_type": "execute_result"
    },
    {
     "data": {
      "image/png": "[encoded data removed]",
      "text/plain": [
       "<Figure size 432x288 with 1 Axes>"
      ]
     },
     "metadata": {
      "needs_background": "light"
     },
     "output_type": "display_data"
    }
   ],
   "source": [
    "df['status'].value_counts().plot(kind='bar')"
   ]
  },
  {
   "cell_type": "code",
   "execution_count": 170,
   "metadata": {},
   "outputs": [
    {
     "data": {
      "text/plain": [
       "non_veg    29863\n",
       "veg         5688\n",
       "Name: diet_code, dtype: int64"
      ]
     },
     "execution_count": 170,
     "metadata": {},
     "output_type": "execute_result"
    }
   ],
   "source": [
    "### turn diet into vegetarian/vegan and all else\n",
    "diet_mapping = {\"mostly kosher\": 'non_veg', \"mostly halal\": 'non_veg', \"strictly kosher\": 'non_veg', \"strictly halal\": 'non_veg', \"kosher\": 'non_veg', \"halal\": 'non_veg',\n",
    "                \"mostly vegetarian\": 'veg', \"mostly vegan\": 'veg', \"strictly vegetarian\": 'veg', \"vegetarian\": 'veg', \"mostly vegan\": 'veg', \n",
    "                \"strictly vegan\": 'veg', \"vegan\": 'veg', \"mostly anything\": 'non_veg', \"anything\": 'non_veg', \"strictly anything\": 'non_veg', \"mostly other\": 'non_veg', \n",
    "                \"strictly other\": 'non_veg', \"other\": 'non_veg'}\n",
    "df[\"diet_code\"] = df.diet.map(diet_mapping)\n",
    "\n",
    "drink_mapping = {\"not at all\": 0, \"rarely\": 1, \"socially\": 2, \"often\": 3, \"very often\": 4, \"desperately\": 5}\n",
    "smokes_mapping = {\"no\": 0, \"when drinking\": 1, \"sometimes\": 2, \"trying to quit\": 3, \"yes\": 4}\n",
    "drugs_mapping = {\"never\": 0, \"sometimes\": 1, \"often\": 2}\n",
    "df[\"drinks_code\"] = df.drinks.map(drink_mapping)\n",
    "df[\"smokes_code\"] = df.smokes.map(smokes_mapping)\n",
    "df[\"drugs_code\"] = df.drugs.map(drugs_mapping)\n",
    "df.diet_code.value_counts()"
   ]
  },
  {
   "cell_type": "code",
   "execution_count": 171,
   "metadata": {},
   "outputs": [
    {
     "data": {
      "text/plain": [
       "0     56859\n",
       "1      2107\n",
       "2       674\n",
       "3       153\n",
       "4        78\n",
       "5        36\n",
       "6        21\n",
       "7         9\n",
       "8         3\n",
       "11        2\n",
       "9         2\n",
       "12        1\n",
       "10        1\n",
       "Name: frequency_veg, dtype: int64"
      ]
     },
     "execution_count": 171,
     "metadata": {},
     "output_type": "execute_result"
    }
   ],
   "source": [
    "essay_cols = [\"essay0\", \"essay1\", \"essay2\", \"essay3\", \"essay4\", \"essay5\", \"essay6\", \"essay7\", \"essay8\", \"essay9\"]\n",
    "all_essays = df[essay_cols].replace(np.nan, '', regex=True)\n",
    "all_essays = all_essays[essay_cols].apply(lambda x: ' '.join(x), axis=1)\n",
    "df[\"essay_len\"] = all_essays.apply(lambda x: len(x))\n",
    "df['frequency_I_Me'] = all_essays.apply(lambda x: x.count('i') + x.count('me'))\n",
    "df['frequency_veg'] = all_essays.apply(lambda x: x.count('vegetarian') + x.count('vegan'))\n",
    "all_essays = all_essays.apply(lambda x: x.split())\n",
    "df['average_word_length'] = all_essays.apply(lambda x: sum(len(str(word)) for word in x)/len(x) if len(x) > 0 else 0)\n",
    "df.frequency_veg.value_counts()"
   ]
  },
  {
   "cell_type": "code",
   "execution_count": 172,
   "metadata": {},
   "outputs": [
    {
     "name": "stderr",
     "output_type": "stream",
     "text": [
      "C:\\Users\\ncrem\\Miniconda3\\lib\\site-packages\\ipykernel_launcher.py:3: SettingWithCopyWarning: \n",
      "A value is trying to be set on a copy of a slice from a DataFrame\n",
      "\n",
      "See the caveats in the documentation: http://pandas.pydata.org/pandas-docs/stable/indexing.html#indexing-view-versus-copy\n",
      "  This is separate from the ipykernel package so we can avoid doing imports until\n",
      "C:\\Users\\ncrem\\Miniconda3\\lib\\site-packages\\sklearn\\utils\\validation.py:595: DataConversionWarning: Data with input dtype int64 was converted to float64 by MinMaxScaler.\n",
      "  warnings.warn(msg, DataConversionWarning)\n"
     ]
    },
    {
     "name": "stdout",
     "output_type": "stream",
     "text": [
      "0.8469505178365938\n",
      "['non_veg' 'non_veg' 'non_veg' ... 'non_veg' 'non_veg' 'non_veg']\n",
      "['non_veg' 'non_veg' 'non_veg' ... 'veg' 'non_veg' 'non_veg']\n"
     ]
    }
   ],
   "source": [
    "### first classifier to state if vegetarian/vegan or something else\n",
    "model_data = df[['income', 'age', 'frequency_veg', 'smokes_code', 'drinks_code', 'drugs_code', 'height', 'essay_len', 'average_word_length', 'frequency_I_Me', 'diet_code']]\n",
    "model_data.dropna(inplace=True)\n",
    "diet_feature_data_KN = model_data[['income', 'age']]\n",
    "#diet_feature_data = preprocessing.scale(diet_feature_data)\n",
    "diet_label_data_KN = model_data['diet_code']\n",
    "x = diet_feature_data_KN.values\n",
    "min_max_scaler = preprocessing.MinMaxScaler()\n",
    "x_scaled = min_max_scaler.fit_transform(x)\n",
    "diet_feature_data_KN = pd.DataFrame(x_scaled, columns=diet_feature_data_KN.columns)\n",
    "\n",
    "\n",
    "#training_set, validation_set = train_test_split(diet_data, train_size = 0.8, test_size = 0.2, random_state = 1)\n",
    "x_train, x_test, y_train, y_test = train_test_split(diet_feature_data_KN, diet_label_data_KN, train_size = 0.8, test_size = 0.2, random_state = 1)\n",
    "\n",
    "classifierKN = KNeighborsClassifier(n_neighbors = 4)\n",
    "classifierKN.fit(x_train, y_train)\n",
    "print(classifierKN.score(x_test, y_test))\n",
    "guessesKN = classifierKN.predict(x_test)\n",
    "print(guessesKN)\n",
    "labelsKN = y_test.to_numpy()\n",
    "print(labelsKN)"
   ]
  },
  {
   "cell_type": "code",
   "execution_count": 173,
   "metadata": {},
   "outputs": [],
   "source": [
    "k = range(1,15)\n",
    "validation_accuracy = []\n",
    "for item in k:\n",
    "    classifierKN = KNeighborsClassifier(n_neighbors = item)\n",
    "    classifierKN.fit(x_train, y_train)\n",
    "    validation_accuracy.append(classifierKN.score(x_test, y_test))"
   ]
  },
  {
   "cell_type": "code",
   "execution_count": 174,
   "metadata": {},
   "outputs": [
    {
     "data": {
      "image/png": "[encoded data removed]",
      "text/plain": [
       "<Figure size 432x288 with 1 Axes>"
      ]
     },
     "metadata": {
      "needs_background": "light"
     },
     "output_type": "display_data"
    }
   ],
   "source": [
    "plt.plot(k, validation_accuracy)\n",
    "plt.xlabel('k')\n",
    "plt.ylabel('validation_accuracy')\n",
    "plt.title('KNN classifier diet')\n",
    "plt.show()"
   ]
  },
  {
   "cell_type": "code",
   "execution_count": 175,
   "metadata": {},
   "outputs": [
    {
     "name": "stdout",
     "output_type": "stream",
     "text": [
      "accuracy_score: 0.8469505178365938\n",
      "recall_score: 0.5014617493780755\n",
      "precision_score: 0.5362123256860098\n"
     ]
    }
   ],
   "source": [
    "# validation scores\n",
    "print('accuracy_score: ' + str(accuracy_score(labelsKN, guessesKN)))\n",
    "print('recall_score: ' + str(recall_score(labelsKN, guessesKN, average='macro')))\n",
    "print('precision_score: ' + str(precision_score(labelsKN, guessesKN, average='macro')))\n",
    "\n",
    "### what would be the best average parameter when target is multiclass? Average = micro returned the exact same value for all accuracy, recall and precision."
   ]
  },
  {
   "cell_type": "code",
   "execution_count": 176,
   "metadata": {},
   "outputs": [],
   "source": [
    "#pretty good accuracy (number of correct guesses/divided by number of total guesses), \n",
    "#recall is rather low (measures the percentage of relevant items that my classifier found)\n",
    "#precision: fairly ok, it predicts the number of relevant items out of all items selected\n",
    "### by including the frequency_veg variable with the \"vegetarian/vegan\" instead of \"environment/animal\", the metrics improved"
   ]
  },
  {
   "cell_type": "code",
   "execution_count": 177,
   "metadata": {},
   "outputs": [
    {
     "name": "stdout",
     "output_type": "stream",
     "text": [
      "0.8498273878020713\n"
     ]
    },
    {
     "name": "stderr",
     "output_type": "stream",
     "text": [
      "C:\\Users\\ncrem\\Miniconda3\\lib\\site-packages\\sklearn\\utils\\validation.py:595: DataConversionWarning: Data with input dtype int64 was converted to float64 by MinMaxScaler.\n",
      "  warnings.warn(msg, DataConversionWarning)\n"
     ]
    }
   ],
   "source": [
    "diet_feature_data_NB = model_data[['income', 'age', 'frequency_veg']]\n",
    "#diet_feature_data_NB = preprocessing.scale(diet_feature_data_NB)\n",
    "x = diet_feature_data_NB.values\n",
    "min_max_scaler = preprocessing.MinMaxScaler()\n",
    "x_scaled = min_max_scaler.fit_transform(x)\n",
    "diet_feature_data_NB = pd.DataFrame(x_scaled, columns=diet_feature_data_NB.columns)\n",
    "diet_label_data_NB = model_data['diet_code']\n",
    "x_train, x_test, y_train, y_test = train_test_split(diet_feature_data_NB, diet_label_data_NB, train_size = 0.8, test_size = 0.2, random_state = 1)\n",
    "classifierNB = MultinomialNB()\n",
    "classifierNB.fit(x_train, y_train)\n",
    "print(classifierNB.score(x_test, y_test))\n",
    "guessesNB = classifierNB.predict(x_test)\n",
    "labelsNB = y_test.to_numpy()"
   ]
  },
  {
   "cell_type": "code",
   "execution_count": 178,
   "metadata": {},
   "outputs": [
    {
     "name": "stdout",
     "output_type": "stream",
     "text": [
      "accuracy_score: 0.8498273878020713"
     ]
    },
    {
     "name": "stderr",
     "output_type": "stream",
     "text": [
      "C:\\Users\\ncrem\\Miniconda3\\lib\\site-packages\\sklearn\\metrics\\classification.py:1143: UndefinedMetricWarning: Precision is ill-defined and being set to 0.0 in labels with no predicted samples.\n",
      "  'precision', 'predicted', average, warn_for)\n"
     ]
    },
    {
     "name": "stdout",
     "output_type": "stream",
     "text": [
      "\n",
      "recall_score: 0.5\n",
      "precision_score: 0.42491369390103567\n"
     ]
    }
   ],
   "source": [
    "print('accuracy_score: ' + str(accuracy_score(labelsNB, guessesNB)))\n",
    "print('recall_score: ' + str(recall_score(labelsNB, guessesNB, average='macro')))\n",
    "print('precision_score: ' + str(precision_score(labelsNB, guessesNB, average='macro')))\n",
    "# very poor precision: the KN classifier works better on that performance metrics, the other two are very similar"
   ]
  },
  {
   "cell_type": "code",
   "execution_count": 179,
   "metadata": {},
   "outputs": [
    {
     "name": "stdout",
     "output_type": "stream",
     "text": [
      "[-7.74200524e-02  3.62938461e-03 -4.94558806e-07]\n",
      "Train score: 0.00369\n",
      "Test score: 0.00463\n"
     ]
    }
   ],
   "source": [
    "### Regression models: predict age (Do people at the same age have some common traits?)\n",
    "\n",
    "# Multiple Linear Regression\n",
    "age_feature_data_MLR = model_data[['height', 'frequency_I_Me', 'income']]\n",
    "#age_feature_data_MLR = model_data['income']\n",
    "age_label_data_MLR = model_data['age']\n",
    "x_train, x_test, y_train, y_test = train_test_split(age_feature_data_MLR, age_label_data_MLR, train_size = 0.8, test_size = 0.2, random_state = 1)\n",
    "\n",
    "mlr = LinearRegression()\n",
    "#x_train = x_train.values.reshape(-1, 1)\n",
    "mlr.fit(x_train, y_train)\n",
    "#x_test = x_test.values.reshape(-1, 1)\n",
    "y_predict_MLR = mlr.predict(x_test)\n",
    "print(mlr.coef_)\n",
    "# I improved the model by excluding (one after the other) the feature with coefficient closest to null\n",
    "print('Train score: %.5f' % mlr.score(x_train, y_train))\n",
    "print('Test score: %.5f' % mlr.score(x_test, y_test))\n",
    "# Score returns the coefficient of determination R² of the prediction. R² is the percentage variation in y explained by all the x variables together. My current model explains close to no variation in the y variable (age)\n",
    "# The score does neither improve when just using income as the only explaining variable"
   ]
  },
  {
   "cell_type": "code",
   "execution_count": 180,
   "metadata": {},
   "outputs": [
    {
     "data": {
      "image/png": "[encoded data removed]",
      "text/plain": [
       "<Figure size 432x288 with 1 Axes>"
      ]
     },
     "metadata": {
      "needs_background": "light"
     },
     "output_type": "display_data"
    }
   ],
   "source": [
    "residuals_MLR = y_predict_MLR - y_test\n",
    "plt.scatter(y_predict_MLR, residuals_MLR)\n",
    "plt.title('Residual Analysis')\n",
    "plt.xlabel('predicted age')\n",
    "plt.ylabel('difference to actual age')\n",
    "plt.show()\n",
    "# it looks like my model is only predicting ages around 32, while the dataset clearly has also older people. Not a very good model"
   ]
  },
  {
   "cell_type": "code",
   "execution_count": 181,
   "metadata": {},
   "outputs": [
    {
     "name": "stdout",
     "output_type": "stream",
     "text": [
      "Train score: 0.48896\n",
      "Test score: -0.21889\n"
     ]
    }
   ],
   "source": [
    "# KNN regressor\n",
    "age_feature_data_KNN = model_data[['income', 'frequency_I_Me', 'height']]\n",
    "age_label_data_KNN = model_data['age']\n",
    "x_train, x_test, y_train, y_test = train_test_split(age_feature_data_MLR, age_label_data_MLR, train_size = 0.8, test_size = 0.2, random_state = 1)\n",
    "\n",
    "regressor = KNeighborsRegressor(n_neighbors = 10, weights = 'distance')\n",
    "regressor.fit(x_train, y_train)\n",
    "guesses_KNN = regressor.predict(x_test)\n",
    "print('Train score: %.5f' % regressor.score(x_train, y_train))\n",
    "print('Test score: %.5f' % regressor.score(x_test, y_test))\n",
    "\n",
    "# Better score: so it means that this model is better at explaining the variation in age, but still very low score. So, in general not a good model"
   ]
  },
  {
   "cell_type": "code",
   "execution_count": 182,
   "metadata": {},
   "outputs": [
    {
     "data": {
      "image/png": "[encoded data removed]",
      "text/plain": [
       "<Figure size 432x288 with 1 Axes>"
      ]
     },
     "metadata": {
      "needs_background": "light"
     },
     "output_type": "display_data"
    }
   ],
   "source": [
    "residuals_KNN = guesses_KNN - y_test\n",
    "plt.scatter(guesses_KNN, residuals_KNN)\n",
    "plt.title('Residual Analysis')\n",
    "plt.xlabel('predicted age')\n",
    "plt.ylabel('difference to actual age')\n",
    "plt.show()\n",
    "# also this model clearly underpredicts the higher age people. There must be another feature that explains better if somebody is older"
   ]
  }
 ],
 "metadata": {
  "kernelspec": {
   "display_name": "Python 3",
   "language": "python",
   "name": "python3"
  },
  "language_info": {
   "codemirror_mode": {
    "name": "ipython",
    "version": 3
   },
   "file_extension": ".py",
   "mimetype": "text/x-python",
   "name": "python",
   "nbconvert_exporter": "python",
   "pygments_lexer": "ipython3",
   "version": "3.8.8"
  }
 },
 "nbformat": 4,
 "nbformat_minor": 2
}
